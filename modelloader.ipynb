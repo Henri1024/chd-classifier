{
 "cells": [
  {
   "cell_type": "code",
   "execution_count": 23,
   "metadata": {},
   "outputs": [],
   "source": [
    "import os\n",
    "\n",
    "import pandas as pd\n",
    "import numpy as np\n",
    "import matplotlib.pyplot as plt\n",
    "import matplotlib as mpl\n",
    "from sklearn.metrics import confusion_matrix, accuracy_score\n",
    "import seaborn as sns\n",
    "import tensorflow as tf\n",
    "from tensorflow import keras\n",
    "import joblib\n",
    "\n",
    "from sklearn.preprocessing import StandardScaler\n",
    "\n",
    "from dotenv import load_dotenv\n",
    "\n",
    "load_dotenv()\n",
    "mpl.rcParams['figure.figsize'] = (12, 10)"
   ]
  },
  {
   "cell_type": "code",
   "execution_count": 24,
   "metadata": {},
   "outputs": [],
   "source": [
    "# load tf model and scaler\n",
    "\n",
    "model = tf.keras.models.load_model('model/ann_model')\n",
    "\n",
    "scaler_filename = os.getenv(\"SCALER_FILENAME\")\n",
    "sc = joblib.load(scaler_filename)\n"
   ]
  },
  {
   "cell_type": "code",
   "execution_count": 25,
   "metadata": {},
   "outputs": [
    {
     "name": "stdout",
     "output_type": "stream",
     "text": [
      "shape of testing feature: (542, 14)\n",
      "shape of testing labels: (542,)\n"
     ]
    }
   ],
   "source": [
    "# drop colomn\n",
    "def dropColomn(df, col):\n",
    "    try:\n",
    "        df = df.drop(col,1)\n",
    "    except:\n",
    "        print('colomn {0} not found'.format(col))\n",
    "    return df\n",
    "\n",
    "# split dataframe to feature target numpy array\n",
    "def split_feature_label(df):\n",
    "    return df.iloc[:, :-1].values, df.iloc[:, -1].values\n",
    "\n",
    "# processing testing dataset\n",
    "\n",
    "# import dataset\n",
    "test_df = pd.read_csv(os.getcwd()+'/datasets/testing.csv')\n",
    "# drop colomn id\n",
    "test_df = dropColomn(test_df, 'id')\n",
    "\n",
    "# split features and labels\n",
    "x_test, y_test = split_feature_label(test_df)\n",
    "\n",
    "print('shape of testing feature: {0}'.format(x_test.shape))\n",
    "print('shape of testing labels: {0}'.format(y_test.shape))"
   ]
  },
  {
   "cell_type": "code",
   "execution_count": 26,
   "metadata": {},
   "outputs": [],
   "source": [
    "def plot_cm(labels, predictions, p=0.5):\n",
    "    cm = confusion_matrix(labels, predictions >= p)\n",
    "    plt.figure(figsize=(5,5))\n",
    "    sns.heatmap(cm, annot=True, fmt=\"d\")\n",
    "    plt.title('Confusion matrix @{:.2f}'.format(p))\n",
    "    plt.ylabel('Actual label')\n",
    "    plt.xlabel('Predicted label')\n",
    "\n",
    "    print('Legitimate Transactions Detected (True Negatives): {0}, with percentage : {1}'.format(cm[0][0], cm[0][0]/len(labels)))\n",
    "    print('Legitimate Transactions Incorrectly Detected (False Positives): {0}, with percentage : {1}'.format(cm[0][1], cm[0][1]/len(labels)))\n",
    "    print('Fraudulent Transactions Missed (False Negatives): {0}, with percentage : {1}'.format(cm[1][0], cm[1][0]/len(labels)))\n",
    "    print('Fraudulent Transactions Detected (True Positives): {0}, with percentage : {1}'.format(cm[1][1], cm[1][1]/len(labels)))\n",
    "    print('Total Fraudulent Transactions: ', np.sum(cm[1]))\n",
    "\n",
    "    print('Accuracy : ', accuracy_score(labels, predictions > p))"
   ]
  },
  {
   "cell_type": "code",
   "execution_count": 27,
   "metadata": {},
   "outputs": [
    {
     "name": "stdout",
     "output_type": "stream",
     "text": [
      "[[0.68753183 0.        ]\n",
      " [0.27569282 0.        ]\n",
      " [0.47418833 0.        ]\n",
      " ...\n",
      " [0.34706211 0.        ]\n",
      " [0.33781832 1.        ]\n",
      " [0.9338513  1.        ]]\n",
      "Legitimate Transactions Detected (True Negatives): 364, with percentage : 0.6715867158671587\n",
      "Legitimate Transactions Incorrectly Detected (False Positives): 96, with percentage : 0.17712177121771217\n",
      "Fraudulent Transactions Missed (False Negatives): 47, with percentage : 0.08671586715867159\n",
      "Fraudulent Transactions Detected (True Positives): 35, with percentage : 0.06457564575645756\n",
      "Total Fraudulent Transactions:  82\n",
      "Accuracy :  0.7361623616236163\n"
     ]
    },
    {
     "data": {
      "image/png": "[encoded data removed]",
      "text/plain": [
       "<Figure size 360x360 with 2 Axes>"
      ]
     },
     "metadata": {
      "needs_background": "light"
     },
     "output_type": "display_data"
    }
   ],
   "source": [
    "x_test = sc.transform(x_test)\n",
    "y_pred = model.predict(x_test)\n",
    "print(np.concatenate((y_pred.reshape(len(y_pred),1), y_test.reshape(len(y_test),1)),1))\n",
    "plot_cm(y_test, y_pred)"
   ]
  }
 ],
 "metadata": {
  "interpreter": {
   "hash": "31f2aee4e71d21fbe5cf8b01ff0e069b9275f58929596ceb00d14d90e3e16cd6"
  },
  "kernelspec": {
   "display_name": "Python 3.6.9 64-bit",
   "name": "python3"
  },
  "language_info": {
   "codemirror_mode": {
    "name": "ipython",
    "version": 3
   },
   "file_extension": ".py",
   "mimetype": "text/x-python",
   "name": "python",
   "nbconvert_exporter": "python",
   "pygments_lexer": "ipython3",
   "version": "3.6.9"
  },
  "orig_nbformat": 4
 },
 "nbformat": 4,
 "nbformat_minor": 2
}
