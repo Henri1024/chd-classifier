{
 "cells": [
  {
   "cell_type": "code",
   "execution_count": 1,
   "metadata": {},
   "outputs": [],
   "source": [
    "# Setting up environment\n",
    "\n",
    "import os\n",
    "\n",
    "import pandas as pd\n",
    "import numpy as np\n",
    "import matplotlib.pyplot as plt\n",
    "import matplotlib as mpl\n",
    "from sklearn.metrics import confusion_matrix, accuracy_score\n",
    "import seaborn as sns\n",
    "import tensorflow as tf\n",
    "from tensorflow import keras\n",
    "import joblib\n",
    "\n",
    "from sklearn.preprocessing import StandardScaler\n",
    "import category_encoders as ce\n",
    "\n",
    "from dotenv import load_dotenv\n",
    "\n",
    "load_dotenv()\n",
    "mpl.rcParams['figure.figsize'] = (12, 10)"
   ]
  },
  {
   "cell_type": "code",
   "execution_count": 2,
   "metadata": {},
   "outputs": [],
   "source": [
    "# drop colomn\n",
    "def dropColomn(df, col):\n",
    "    try:\n",
    "        df = df.drop(col,1)\n",
    "    except:\n",
    "        print('colomn {0} not found'.format(col))\n",
    "    return df\n",
    "\n",
    "# split dataframe to feature target numpy array\n",
    "def split_feature_label(df):\n",
    "    return df.iloc[:, :-1].values, df.iloc[:, -1].values"
   ]
  },
  {
   "cell_type": "code",
   "execution_count": 3,
   "metadata": {},
   "outputs": [
    {
     "name": "stdout",
     "output_type": "stream",
     "text": [
      "shape of testing feature: (542, 14)\n",
      "shape of testing labels: (542,)\n"
     ]
    }
   ],
   "source": [
    "# processing testing dataset\n",
    "\n",
    "# import dataset\n",
    "test_df = pd.read_csv(os.getcwd()+'/datasets/testing.csv')\n",
    "# drop colomn id\n",
    "test_df = dropColomn(test_df, 'id')\n",
    "\n",
    "# split features and labels\n",
    "x_test, y_test = split_feature_label(test_df)\n",
    "\n",
    "print('shape of testing feature: {0}'.format(x_test.shape))\n",
    "print('shape of testing labels: {0}'.format(y_test.shape))"
   ]
  },
  {
   "cell_type": "code",
   "execution_count": 4,
   "metadata": {},
   "outputs": [
    {
     "name": "stdout",
     "output_type": "stream",
     "text": [
      "shape of training feature: (3676, 14)\n",
      "shape of training labels: (3676,)\n"
     ]
    }
   ],
   "source": [
    "# processing training dataset\n",
    "# import dataset\n",
    "dataset = pd.read_csv(os.getcwd()+'/datasets/sampled_dataset.csv')\n",
    "\n",
    "# drop colomm id\n",
    "dataset = dropColomn(dataset, 'id')\n",
    "\n",
    "# split features and labels\n",
    "x,y = split_feature_label(dataset)\n",
    "\n",
    "print('shape of training feature: {0}'.format(x.shape))\n",
    "print('shape of training labels: {0}'.format(y.shape))\n"
   ]
  },
  {
   "cell_type": "code",
   "execution_count": 5,
   "metadata": {},
   "outputs": [],
   "source": [
    "# hot encoding training and testing labels\n",
    "\n",
    "def hotEncodingLabels(arr, col):\n",
    "\n",
    "    data = pd.DataFrame(map(str, arr), columns = [col])\n",
    "\n",
    "    # creating instance of one-hot-encoder\n",
    "    encoder = ce.OneHotEncoder(cols=col,handle_unknown='ignore', return_df=True, use_cat_names=True)\n",
    "\n",
    "    data_encoded = encoder.fit_transform(data)\n",
    "\n",
    "    return data_encoded\n",
    "\n",
    "ymc = hotEncodingLabels(y,'label')\n",
    "ymc_test = hotEncodingLabels(y_test,'label')"
   ]
  },
  {
   "cell_type": "code",
   "execution_count": 6,
   "metadata": {},
   "outputs": [
    {
     "name": "stdout",
     "output_type": "stream",
     "text": [
      "shape of training feature: (2757, 14)\n",
      "shape of training labels: (2757, 2)\n",
      "shape of validation feature: (919, 14)\n",
      "shape of validation labels: (919, 2)\n"
     ]
    }
   ],
   "source": [
    "# split to training and validating dataset\n",
    "from sklearn.model_selection import train_test_split\n",
    "\n",
    "TESTSIZE = float(os.getenv('VALRATE'))\n",
    "TESTRANDOMSTATE = int(os.getenv('VALRANDOMSTATE'))\n",
    "\n",
    "x_train, x_val, y_train, y_val = train_test_split(x, ymc, test_size = TESTSIZE, random_state = TESTRANDOMSTATE)\n",
    "\n",
    "print('shape of training feature: {0}'.format(x_train.shape))\n",
    "print('shape of training labels: {0}'.format(y_train.shape))\n",
    "\n",
    "print('shape of validation feature: {0}'.format(x_val.shape))\n",
    "print('shape of validation labels: {0}'.format(y_val.shape))\n"
   ]
  },
  {
   "cell_type": "code",
   "execution_count": 7,
   "metadata": {},
   "outputs": [
    {
     "data": {
      "text/plain": [
       "['model/scaler.save']"
      ]
     },
     "execution_count": 7,
     "metadata": {},
     "output_type": "execute_result"
    }
   ],
   "source": [
    "# Scaling data using standar scaler\n",
    "sc = StandardScaler()\n",
    "\n",
    "x_train = sc.fit_transform(x_train)\n",
    "x_val = sc.transform(x_val)\n",
    "x_test = sc.transform(x_test)\n",
    "\n",
    "# save scaler variable into file\n",
    "scaler_filename = os.getenv(\"SCALER_FILENAME\")\n",
    "joblib.dump(sc, scaler_filename) \n"
   ]
  },
  {
   "cell_type": "code",
   "execution_count": 8,
   "metadata": {},
   "outputs": [],
   "source": [
    "# building model\n",
    "\n",
    "BATCH_SIZE = int(os.getenv('BATCHSIZE'))\n",
    "EPOCHS = int(os.getenv('EPOCH'))\n",
    "\n",
    "METRICS = [\n",
    "    # keras.metrics.TruePositives(name='tp'),\n",
    "    # keras.metrics.FalsePositives(name='fp'),\n",
    "    # keras.metrics.TrueNegatives(name='tn'),\n",
    "    # keras.metrics.FalseNegatives(name='fn'), \n",
    "    keras.metrics.BinaryAccuracy(name='accuracy'),\n",
    "    keras.metrics.Precision(name='precision'),\n",
    "    keras.metrics.Recall(name='recall'),\n",
    "    # keras.metrics.AUC(name='auc'),\n",
    "    # keras.metrics.AUC(name='prc', curve='PR'), # precision-recall curve\n",
    "]\n",
    "\n",
    "def make_model(metrics=METRICS ):\n",
    "    model = keras.Sequential([\n",
    "        keras.layers.Dense(\n",
    "            14, activation='relu',\n",
    "            input_shape=(x_train.shape[-1],)),\n",
    "        # keras.layers.Dropout(0.3),\n",
    "        keras.layers.Dense(\n",
    "            14, activation='relu'),\n",
    "        keras.layers.Dense(2, activation='softmax'),\n",
    "    ])\n",
    "\n",
    "    model.compile(\n",
    "        optimizer=keras.optimizers.Adam(learning_rate=1e-3),\n",
    "        loss=keras.losses.CategoricalCrossentropy(),\n",
    "        metrics=metrics)\n",
    "\n",
    "    return model\n",
    "\n",
    "early_stopping = tf.keras.callbacks.EarlyStopping(\n",
    "    monitor='val_accuracy', \n",
    "    verbose=1,\n",
    "    patience=32,\n",
    "    mode='max',\n",
    "    restore_best_weights=True)"
   ]
  },
  {
   "cell_type": "code",
   "execution_count": 9,
   "metadata": {},
   "outputs": [
    {
     "name": "stdout",
     "output_type": "stream",
     "text": [
      "Model: \"sequential\"\n",
      "_________________________________________________________________\n",
      "Layer (type)                 Output Shape              Param #   \n",
      "=================================================================\n",
      "dense (Dense)                (None, 14)                210       \n",
      "_________________________________________________________________\n",
      "dense_1 (Dense)              (None, 14)                210       \n",
      "_________________________________________________________________\n",
      "dense_2 (Dense)              (None, 2)                 30        \n",
      "=================================================================\n",
      "Total params: 450\n",
      "Trainable params: 450\n",
      "Non-trainable params: 0\n",
      "_________________________________________________________________\n"
     ]
    }
   ],
   "source": [
    "model = make_model()\n",
    "model.summary()"
   ]
  },
  {
   "cell_type": "code",
   "execution_count": 10,
   "metadata": {},
   "outputs": [
    {
     "name": "stdout",
     "output_type": "stream",
     "text": [
      "Epoch 1/1024\n",
      "44/44 [==============================] - 1s 8ms/step - loss: 0.6852 - accuracy: 0.5771 - precision: 0.5771 - recall: 0.5771 - val_loss: 0.6625 - val_accuracy: 0.6148 - val_precision: 0.6148 - val_recall: 0.6148\n",
      "Epoch 2/1024\n",
      "44/44 [==============================] - 0s 2ms/step - loss: 0.6467 - accuracy: 0.6170 - precision: 0.6170 - recall: 0.6170 - val_loss: 0.6398 - val_accuracy: 0.6398 - val_precision: 0.6398 - val_recall: 0.6398\n",
      "Epoch 3/1024\n",
      "44/44 [==============================] - 0s 2ms/step - loss: 0.6274 - accuracy: 0.6503 - precision: 0.6503 - recall: 0.6503 - val_loss: 0.6270 - val_accuracy: 0.6594 - val_precision: 0.6594 - val_recall: 0.6594\n",
      "Epoch 4/1024\n",
      "44/44 [==============================] - 0s 2ms/step - loss: 0.6166 - accuracy: 0.6547 - precision: 0.6547 - recall: 0.6547 - val_loss: 0.6178 - val_accuracy: 0.6692 - val_precision: 0.6692 - val_recall: 0.6692\n",
      "Epoch 5/1024\n",
      "44/44 [==============================] - 0s 2ms/step - loss: 0.6099 - accuracy: 0.6678 - precision: 0.6678 - recall: 0.6678 - val_loss: 0.6100 - val_accuracy: 0.6757 - val_precision: 0.6757 - val_recall: 0.6757\n",
      "Epoch 6/1024\n",
      "44/44 [==============================] - 0s 2ms/step - loss: 0.6050 - accuracy: 0.6757 - precision: 0.6757 - recall: 0.6757 - val_loss: 0.6074 - val_accuracy: 0.6997 - val_precision: 0.6997 - val_recall: 0.6997\n",
      "Epoch 7/1024\n",
      "44/44 [==============================] - 0s 2ms/step - loss: 0.6004 - accuracy: 0.6837 - precision: 0.6837 - recall: 0.6837 - val_loss: 0.6004 - val_accuracy: 0.6997 - val_precision: 0.6997 - val_recall: 0.6997\n",
      "Epoch 8/1024\n",
      "44/44 [==============================] - 0s 2ms/step - loss: 0.5951 - accuracy: 0.6921 - precision: 0.6921 - recall: 0.6921 - val_loss: 0.5973 - val_accuracy: 0.6997 - val_precision: 0.6997 - val_recall: 0.6997\n",
      "Epoch 9/1024\n",
      "44/44 [==============================] - 0s 2ms/step - loss: 0.5907 - accuracy: 0.6939 - precision: 0.6939 - recall: 0.6939 - val_loss: 0.5901 - val_accuracy: 0.7040 - val_precision: 0.7040 - val_recall: 0.7040\n",
      "Epoch 10/1024\n",
      "44/44 [==============================] - 0s 2ms/step - loss: 0.5867 - accuracy: 0.6986 - precision: 0.6986 - recall: 0.6986 - val_loss: 0.5865 - val_accuracy: 0.7051 - val_precision: 0.7051 - val_recall: 0.7051\n",
      "Epoch 11/1024\n",
      "44/44 [==============================] - 0s 2ms/step - loss: 0.5823 - accuracy: 0.7000 - precision: 0.7000 - recall: 0.7000 - val_loss: 0.5828 - val_accuracy: 0.7008 - val_precision: 0.7008 - val_recall: 0.7008\n",
      "Epoch 12/1024\n",
      "44/44 [==============================] - 0s 2ms/step - loss: 0.5794 - accuracy: 0.7044 - precision: 0.7044 - recall: 0.7044 - val_loss: 0.5815 - val_accuracy: 0.6975 - val_precision: 0.6975 - val_recall: 0.6975\n",
      "Epoch 13/1024\n",
      "44/44 [==============================] - 0s 2ms/step - loss: 0.5759 - accuracy: 0.7077 - precision: 0.7077 - recall: 0.7077 - val_loss: 0.5791 - val_accuracy: 0.6964 - val_precision: 0.6964 - val_recall: 0.6964\n",
      "Epoch 14/1024\n",
      "44/44 [==============================] - 0s 2ms/step - loss: 0.5735 - accuracy: 0.7135 - precision: 0.7135 - recall: 0.7135 - val_loss: 0.5726 - val_accuracy: 0.7051 - val_precision: 0.7051 - val_recall: 0.7051\n",
      "Epoch 15/1024\n",
      "44/44 [==============================] - 0s 2ms/step - loss: 0.5691 - accuracy: 0.7095 - precision: 0.7095 - recall: 0.7095 - val_loss: 0.5732 - val_accuracy: 0.6997 - val_precision: 0.6997 - val_recall: 0.6997\n",
      "Epoch 16/1024\n",
      "44/44 [==============================] - 0s 2ms/step - loss: 0.5662 - accuracy: 0.7149 - precision: 0.7149 - recall: 0.7149 - val_loss: 0.5707 - val_accuracy: 0.7051 - val_precision: 0.7051 - val_recall: 0.7051\n",
      "Epoch 17/1024\n",
      "44/44 [==============================] - 0s 2ms/step - loss: 0.5650 - accuracy: 0.7203 - precision: 0.7203 - recall: 0.7203 - val_loss: 0.5654 - val_accuracy: 0.7106 - val_precision: 0.7106 - val_recall: 0.7106\n",
      "Epoch 18/1024\n",
      "44/44 [==============================] - 0s 2ms/step - loss: 0.5627 - accuracy: 0.7149 - precision: 0.7149 - recall: 0.7149 - val_loss: 0.5653 - val_accuracy: 0.7095 - val_precision: 0.7095 - val_recall: 0.7095\n",
      "Epoch 19/1024\n",
      "44/44 [==============================] - 0s 2ms/step - loss: 0.5599 - accuracy: 0.7203 - precision: 0.7203 - recall: 0.7203 - val_loss: 0.5633 - val_accuracy: 0.7149 - val_precision: 0.7149 - val_recall: 0.7149\n",
      "Epoch 20/1024\n",
      "44/44 [==============================] - 0s 2ms/step - loss: 0.5597 - accuracy: 0.7185 - precision: 0.7185 - recall: 0.7185 - val_loss: 0.5641 - val_accuracy: 0.7127 - val_precision: 0.7127 - val_recall: 0.7127\n",
      "Epoch 21/1024\n",
      "44/44 [==============================] - 0s 2ms/step - loss: 0.5555 - accuracy: 0.7222 - precision: 0.7222 - recall: 0.7222 - val_loss: 0.5616 - val_accuracy: 0.7149 - val_precision: 0.7149 - val_recall: 0.7149\n",
      "Epoch 22/1024\n",
      "44/44 [==============================] - 0s 2ms/step - loss: 0.5537 - accuracy: 0.7211 - precision: 0.7211 - recall: 0.7211 - val_loss: 0.5600 - val_accuracy: 0.7160 - val_precision: 0.7160 - val_recall: 0.7160\n",
      "Epoch 23/1024\n",
      "44/44 [==============================] - 0s 2ms/step - loss: 0.5518 - accuracy: 0.7236 - precision: 0.7236 - recall: 0.7236 - val_loss: 0.5598 - val_accuracy: 0.7095 - val_precision: 0.7095 - val_recall: 0.7095\n",
      "Epoch 24/1024\n",
      "44/44 [==============================] - 0s 2ms/step - loss: 0.5503 - accuracy: 0.7240 - precision: 0.7240 - recall: 0.7240 - val_loss: 0.5578 - val_accuracy: 0.7193 - val_precision: 0.7193 - val_recall: 0.7193\n",
      "Epoch 25/1024\n",
      "44/44 [==============================] - 0s 2ms/step - loss: 0.5476 - accuracy: 0.7247 - precision: 0.7247 - recall: 0.7247 - val_loss: 0.5548 - val_accuracy: 0.7258 - val_precision: 0.7258 - val_recall: 0.7258\n",
      "Epoch 26/1024\n",
      "44/44 [==============================] - 0s 2ms/step - loss: 0.5466 - accuracy: 0.7243 - precision: 0.7243 - recall: 0.7243 - val_loss: 0.5556 - val_accuracy: 0.7225 - val_precision: 0.7225 - val_recall: 0.7225\n",
      "Epoch 27/1024\n",
      "44/44 [==============================] - 0s 2ms/step - loss: 0.5447 - accuracy: 0.7222 - precision: 0.7222 - recall: 0.7222 - val_loss: 0.5535 - val_accuracy: 0.7193 - val_precision: 0.7193 - val_recall: 0.7193\n",
      "Epoch 28/1024\n",
      "44/44 [==============================] - 0s 2ms/step - loss: 0.5425 - accuracy: 0.7262 - precision: 0.7262 - recall: 0.7262 - val_loss: 0.5506 - val_accuracy: 0.7280 - val_precision: 0.7280 - val_recall: 0.7280\n",
      "Epoch 29/1024\n",
      "44/44 [==============================] - 0s 2ms/step - loss: 0.5410 - accuracy: 0.7272 - precision: 0.7272 - recall: 0.7272 - val_loss: 0.5520 - val_accuracy: 0.7247 - val_precision: 0.7247 - val_recall: 0.7247\n",
      "Epoch 30/1024\n",
      "44/44 [==============================] - 0s 2ms/step - loss: 0.5396 - accuracy: 0.7254 - precision: 0.7254 - recall: 0.7254 - val_loss: 0.5497 - val_accuracy: 0.7225 - val_precision: 0.7225 - val_recall: 0.7225\n",
      "Epoch 31/1024\n",
      "44/44 [==============================] - 0s 2ms/step - loss: 0.5376 - accuracy: 0.7251 - precision: 0.7251 - recall: 0.7251 - val_loss: 0.5487 - val_accuracy: 0.7258 - val_precision: 0.7258 - val_recall: 0.7258\n",
      "Epoch 32/1024\n",
      "44/44 [==============================] - 0s 2ms/step - loss: 0.5366 - accuracy: 0.7294 - precision: 0.7294 - recall: 0.7294 - val_loss: 0.5461 - val_accuracy: 0.7193 - val_precision: 0.7193 - val_recall: 0.7193\n",
      "Epoch 33/1024\n",
      "44/44 [==============================] - 0s 2ms/step - loss: 0.5343 - accuracy: 0.7258 - precision: 0.7258 - recall: 0.7258 - val_loss: 0.5440 - val_accuracy: 0.7345 - val_precision: 0.7345 - val_recall: 0.7345\n",
      "Epoch 34/1024\n",
      "44/44 [==============================] - 0s 2ms/step - loss: 0.5329 - accuracy: 0.7269 - precision: 0.7269 - recall: 0.7269 - val_loss: 0.5468 - val_accuracy: 0.7247 - val_precision: 0.7247 - val_recall: 0.7247\n",
      "Epoch 35/1024\n",
      "44/44 [==============================] - 0s 2ms/step - loss: 0.5317 - accuracy: 0.7280 - precision: 0.7280 - recall: 0.7280 - val_loss: 0.5419 - val_accuracy: 0.7323 - val_precision: 0.7323 - val_recall: 0.7323\n",
      "Epoch 36/1024\n",
      "44/44 [==============================] - 0s 2ms/step - loss: 0.5295 - accuracy: 0.7280 - precision: 0.7280 - recall: 0.7280 - val_loss: 0.5440 - val_accuracy: 0.7236 - val_precision: 0.7236 - val_recall: 0.7236\n",
      "Epoch 37/1024\n",
      "44/44 [==============================] - 0s 2ms/step - loss: 0.5283 - accuracy: 0.7287 - precision: 0.7287 - recall: 0.7287 - val_loss: 0.5447 - val_accuracy: 0.7214 - val_precision: 0.7214 - val_recall: 0.7214\n",
      "Epoch 38/1024\n",
      "44/44 [==============================] - 0s 2ms/step - loss: 0.5263 - accuracy: 0.7291 - precision: 0.7291 - recall: 0.7291 - val_loss: 0.5425 - val_accuracy: 0.7301 - val_precision: 0.7301 - val_recall: 0.7301\n",
      "Epoch 39/1024\n",
      "44/44 [==============================] - 0s 2ms/step - loss: 0.5257 - accuracy: 0.7287 - precision: 0.7287 - recall: 0.7287 - val_loss: 0.5376 - val_accuracy: 0.7312 - val_precision: 0.7312 - val_recall: 0.7312\n",
      "Epoch 40/1024\n",
      "44/44 [==============================] - 0s 2ms/step - loss: 0.5238 - accuracy: 0.7338 - precision: 0.7338 - recall: 0.7338 - val_loss: 0.5407 - val_accuracy: 0.7301 - val_precision: 0.7301 - val_recall: 0.7301\n",
      "Epoch 41/1024\n",
      "44/44 [==============================] - 0s 2ms/step - loss: 0.5230 - accuracy: 0.7334 - precision: 0.7334 - recall: 0.7334 - val_loss: 0.5377 - val_accuracy: 0.7345 - val_precision: 0.7345 - val_recall: 0.7345\n",
      "Epoch 42/1024\n",
      "44/44 [==============================] - 0s 2ms/step - loss: 0.5208 - accuracy: 0.7305 - precision: 0.7305 - recall: 0.7305 - val_loss: 0.5382 - val_accuracy: 0.7269 - val_precision: 0.7269 - val_recall: 0.7269\n",
      "Epoch 43/1024\n",
      "44/44 [==============================] - 0s 2ms/step - loss: 0.5194 - accuracy: 0.7338 - precision: 0.7338 - recall: 0.7338 - val_loss: 0.5351 - val_accuracy: 0.7378 - val_precision: 0.7378 - val_recall: 0.7378\n",
      "Epoch 44/1024\n",
      "44/44 [==============================] - 0s 2ms/step - loss: 0.5181 - accuracy: 0.7345 - precision: 0.7345 - recall: 0.7345 - val_loss: 0.5381 - val_accuracy: 0.7345 - val_precision: 0.7345 - val_recall: 0.7345\n",
      "Epoch 45/1024\n",
      "44/44 [==============================] - 0s 2ms/step - loss: 0.5178 - accuracy: 0.7370 - precision: 0.7370 - recall: 0.7370 - val_loss: 0.5365 - val_accuracy: 0.7323 - val_precision: 0.7323 - val_recall: 0.7323\n",
      "Epoch 46/1024\n",
      "44/44 [==============================] - 0s 2ms/step - loss: 0.5159 - accuracy: 0.7370 - precision: 0.7370 - recall: 0.7370 - val_loss: 0.5321 - val_accuracy: 0.7367 - val_precision: 0.7367 - val_recall: 0.7367\n",
      "Epoch 47/1024\n",
      "44/44 [==============================] - 0s 2ms/step - loss: 0.5150 - accuracy: 0.7421 - precision: 0.7421 - recall: 0.7421 - val_loss: 0.5344 - val_accuracy: 0.7356 - val_precision: 0.7356 - val_recall: 0.7356\n",
      "Epoch 48/1024\n",
      "44/44 [==============================] - 0s 2ms/step - loss: 0.5168 - accuracy: 0.7414 - precision: 0.7414 - recall: 0.7414 - val_loss: 0.5300 - val_accuracy: 0.7367 - val_precision: 0.7367 - val_recall: 0.7367\n",
      "Epoch 49/1024\n",
      "44/44 [==============================] - 0s 2ms/step - loss: 0.5125 - accuracy: 0.7410 - precision: 0.7410 - recall: 0.7410 - val_loss: 0.5299 - val_accuracy: 0.7345 - val_precision: 0.7345 - val_recall: 0.7345\n",
      "Epoch 50/1024\n",
      "44/44 [==============================] - 0s 2ms/step - loss: 0.5106 - accuracy: 0.7407 - precision: 0.7407 - recall: 0.7407 - val_loss: 0.5289 - val_accuracy: 0.7334 - val_precision: 0.7334 - val_recall: 0.7334\n",
      "Epoch 51/1024\n",
      "44/44 [==============================] - 0s 2ms/step - loss: 0.5105 - accuracy: 0.7414 - precision: 0.7414 - recall: 0.7414 - val_loss: 0.5290 - val_accuracy: 0.7301 - val_precision: 0.7301 - val_recall: 0.7301\n",
      "Epoch 52/1024\n",
      "44/44 [==============================] - 0s 2ms/step - loss: 0.5099 - accuracy: 0.7436 - precision: 0.7436 - recall: 0.7436 - val_loss: 0.5279 - val_accuracy: 0.7367 - val_precision: 0.7367 - val_recall: 0.7367\n",
      "Epoch 53/1024\n",
      "44/44 [==============================] - 0s 2ms/step - loss: 0.5085 - accuracy: 0.7447 - precision: 0.7447 - recall: 0.7447 - val_loss: 0.5294 - val_accuracy: 0.7323 - val_precision: 0.7323 - val_recall: 0.7323\n",
      "Epoch 54/1024\n",
      "44/44 [==============================] - 0s 2ms/step - loss: 0.5067 - accuracy: 0.7454 - precision: 0.7454 - recall: 0.7454 - val_loss: 0.5282 - val_accuracy: 0.7345 - val_precision: 0.7345 - val_recall: 0.7345\n",
      "Epoch 55/1024\n",
      "44/44 [==============================] - 0s 2ms/step - loss: 0.5061 - accuracy: 0.7432 - precision: 0.7432 - recall: 0.7432 - val_loss: 0.5270 - val_accuracy: 0.7367 - val_precision: 0.7367 - val_recall: 0.7367\n",
      "Epoch 56/1024\n",
      "44/44 [==============================] - 0s 2ms/step - loss: 0.5052 - accuracy: 0.7505 - precision: 0.7505 - recall: 0.7505 - val_loss: 0.5260 - val_accuracy: 0.7388 - val_precision: 0.7388 - val_recall: 0.7388\n",
      "Epoch 57/1024\n",
      "44/44 [==============================] - 0s 2ms/step - loss: 0.5043 - accuracy: 0.7476 - precision: 0.7476 - recall: 0.7476 - val_loss: 0.5238 - val_accuracy: 0.7367 - val_precision: 0.7367 - val_recall: 0.7367\n",
      "Epoch 58/1024\n",
      "44/44 [==============================] - 0s 2ms/step - loss: 0.5028 - accuracy: 0.7483 - precision: 0.7483 - recall: 0.7483 - val_loss: 0.5289 - val_accuracy: 0.7399 - val_precision: 0.7399 - val_recall: 0.7399\n",
      "Epoch 59/1024\n",
      "44/44 [==============================] - 0s 2ms/step - loss: 0.5020 - accuracy: 0.7457 - precision: 0.7457 - recall: 0.7457 - val_loss: 0.5241 - val_accuracy: 0.7388 - val_precision: 0.7388 - val_recall: 0.7388\n",
      "Epoch 60/1024\n",
      "44/44 [==============================] - 0s 2ms/step - loss: 0.5014 - accuracy: 0.7508 - precision: 0.7508 - recall: 0.7508 - val_loss: 0.5222 - val_accuracy: 0.7367 - val_precision: 0.7367 - val_recall: 0.7367\n",
      "Epoch 61/1024\n",
      "44/44 [==============================] - 0s 2ms/step - loss: 0.5011 - accuracy: 0.7526 - precision: 0.7526 - recall: 0.7526 - val_loss: 0.5231 - val_accuracy: 0.7378 - val_precision: 0.7378 - val_recall: 0.7378\n",
      "Epoch 62/1024\n",
      "44/44 [==============================] - 0s 2ms/step - loss: 0.4994 - accuracy: 0.7526 - precision: 0.7526 - recall: 0.7526 - val_loss: 0.5231 - val_accuracy: 0.7410 - val_precision: 0.7410 - val_recall: 0.7410\n",
      "Epoch 63/1024\n",
      "44/44 [==============================] - 0s 2ms/step - loss: 0.4986 - accuracy: 0.7555 - precision: 0.7555 - recall: 0.7555 - val_loss: 0.5245 - val_accuracy: 0.7421 - val_precision: 0.7421 - val_recall: 0.7421\n",
      "Epoch 64/1024\n",
      "44/44 [==============================] - 0s 2ms/step - loss: 0.4973 - accuracy: 0.7505 - precision: 0.7505 - recall: 0.7505 - val_loss: 0.5190 - val_accuracy: 0.7519 - val_precision: 0.7519 - val_recall: 0.7519\n",
      "Epoch 65/1024\n",
      "44/44 [==============================] - 0s 2ms/step - loss: 0.4961 - accuracy: 0.7523 - precision: 0.7523 - recall: 0.7523 - val_loss: 0.5235 - val_accuracy: 0.7410 - val_precision: 0.7410 - val_recall: 0.7410\n",
      "Epoch 66/1024\n",
      "44/44 [==============================] - 0s 2ms/step - loss: 0.4955 - accuracy: 0.7563 - precision: 0.7563 - recall: 0.7563 - val_loss: 0.5180 - val_accuracy: 0.7497 - val_precision: 0.7497 - val_recall: 0.7497\n",
      "Epoch 67/1024\n",
      "44/44 [==============================] - 0s 2ms/step - loss: 0.4949 - accuracy: 0.7508 - precision: 0.7508 - recall: 0.7508 - val_loss: 0.5223 - val_accuracy: 0.7443 - val_precision: 0.7443 - val_recall: 0.7443\n",
      "Epoch 68/1024\n",
      "44/44 [==============================] - 0s 2ms/step - loss: 0.4942 - accuracy: 0.7552 - precision: 0.7552 - recall: 0.7552 - val_loss: 0.5199 - val_accuracy: 0.7476 - val_precision: 0.7476 - val_recall: 0.7476\n",
      "Epoch 69/1024\n",
      "44/44 [==============================] - 0s 2ms/step - loss: 0.4934 - accuracy: 0.7584 - precision: 0.7584 - recall: 0.7584 - val_loss: 0.5174 - val_accuracy: 0.7497 - val_precision: 0.7497 - val_recall: 0.7497\n",
      "Epoch 70/1024\n",
      "44/44 [==============================] - 0s 2ms/step - loss: 0.4920 - accuracy: 0.7581 - precision: 0.7581 - recall: 0.7581 - val_loss: 0.5202 - val_accuracy: 0.7497 - val_precision: 0.7497 - val_recall: 0.7497\n",
      "Epoch 71/1024\n",
      "44/44 [==============================] - 0s 2ms/step - loss: 0.4911 - accuracy: 0.7573 - precision: 0.7573 - recall: 0.7573 - val_loss: 0.5161 - val_accuracy: 0.7552 - val_precision: 0.7552 - val_recall: 0.7552\n",
      "Epoch 72/1024\n",
      "44/44 [==============================] - 0s 2ms/step - loss: 0.4910 - accuracy: 0.7595 - precision: 0.7595 - recall: 0.7595 - val_loss: 0.5135 - val_accuracy: 0.7552 - val_precision: 0.7552 - val_recall: 0.7552\n",
      "Epoch 73/1024\n",
      "44/44 [==============================] - 0s 2ms/step - loss: 0.4899 - accuracy: 0.7588 - precision: 0.7588 - recall: 0.7588 - val_loss: 0.5170 - val_accuracy: 0.7421 - val_precision: 0.7421 - val_recall: 0.7421\n",
      "Epoch 74/1024\n",
      "44/44 [==============================] - 0s 2ms/step - loss: 0.4894 - accuracy: 0.7602 - precision: 0.7602 - recall: 0.7602 - val_loss: 0.5189 - val_accuracy: 0.7497 - val_precision: 0.7497 - val_recall: 0.7497\n",
      "Epoch 75/1024\n",
      "44/44 [==============================] - 0s 2ms/step - loss: 0.4886 - accuracy: 0.7617 - precision: 0.7617 - recall: 0.7617 - val_loss: 0.5156 - val_accuracy: 0.7573 - val_precision: 0.7573 - val_recall: 0.7573\n",
      "Epoch 76/1024\n",
      "44/44 [==============================] - 0s 2ms/step - loss: 0.4898 - accuracy: 0.7650 - precision: 0.7650 - recall: 0.7650 - val_loss: 0.5159 - val_accuracy: 0.7552 - val_precision: 0.7552 - val_recall: 0.7552\n",
      "Epoch 77/1024\n",
      "44/44 [==============================] - 0s 2ms/step - loss: 0.4868 - accuracy: 0.7653 - precision: 0.7653 - recall: 0.7653 - val_loss: 0.5139 - val_accuracy: 0.7497 - val_precision: 0.7497 - val_recall: 0.7497\n",
      "Epoch 78/1024\n",
      "44/44 [==============================] - 0s 2ms/step - loss: 0.4857 - accuracy: 0.7646 - precision: 0.7646 - recall: 0.7646 - val_loss: 0.5150 - val_accuracy: 0.7595 - val_precision: 0.7595 - val_recall: 0.7595\n",
      "Epoch 79/1024\n",
      "44/44 [==============================] - 0s 2ms/step - loss: 0.4850 - accuracy: 0.7639 - precision: 0.7639 - recall: 0.7639 - val_loss: 0.5140 - val_accuracy: 0.7595 - val_precision: 0.7595 - val_recall: 0.7595\n",
      "Epoch 80/1024\n",
      "44/44 [==============================] - 0s 2ms/step - loss: 0.4849 - accuracy: 0.7657 - precision: 0.7657 - recall: 0.7657 - val_loss: 0.5132 - val_accuracy: 0.7584 - val_precision: 0.7584 - val_recall: 0.7584\n",
      "Epoch 81/1024\n",
      "44/44 [==============================] - 0s 2ms/step - loss: 0.4837 - accuracy: 0.7617 - precision: 0.7617 - recall: 0.7617 - val_loss: 0.5200 - val_accuracy: 0.7530 - val_precision: 0.7530 - val_recall: 0.7530\n",
      "Epoch 82/1024\n",
      "44/44 [==============================] - 0s 2ms/step - loss: 0.4835 - accuracy: 0.7675 - precision: 0.7675 - recall: 0.7675 - val_loss: 0.5135 - val_accuracy: 0.7595 - val_precision: 0.7595 - val_recall: 0.7595\n",
      "Epoch 83/1024\n",
      "44/44 [==============================] - 0s 2ms/step - loss: 0.4828 - accuracy: 0.7682 - precision: 0.7682 - recall: 0.7682 - val_loss: 0.5135 - val_accuracy: 0.7628 - val_precision: 0.7628 - val_recall: 0.7628\n",
      "Epoch 84/1024\n",
      "44/44 [==============================] - 0s 2ms/step - loss: 0.4821 - accuracy: 0.7642 - precision: 0.7642 - recall: 0.7642 - val_loss: 0.5120 - val_accuracy: 0.7573 - val_precision: 0.7573 - val_recall: 0.7573\n",
      "Epoch 85/1024\n",
      "44/44 [==============================] - 0s 2ms/step - loss: 0.4812 - accuracy: 0.7664 - precision: 0.7664 - recall: 0.7664 - val_loss: 0.5115 - val_accuracy: 0.7671 - val_precision: 0.7671 - val_recall: 0.7671\n",
      "Epoch 86/1024\n",
      "44/44 [==============================] - 0s 2ms/step - loss: 0.4797 - accuracy: 0.7693 - precision: 0.7693 - recall: 0.7693 - val_loss: 0.5098 - val_accuracy: 0.7726 - val_precision: 0.7726 - val_recall: 0.7726\n",
      "Epoch 87/1024\n",
      "44/44 [==============================] - 0s 2ms/step - loss: 0.4801 - accuracy: 0.7682 - precision: 0.7682 - recall: 0.7682 - val_loss: 0.5104 - val_accuracy: 0.7639 - val_precision: 0.7639 - val_recall: 0.7639\n",
      "Epoch 88/1024\n",
      "44/44 [==============================] - 0s 2ms/step - loss: 0.4783 - accuracy: 0.7668 - precision: 0.7668 - recall: 0.7668 - val_loss: 0.5173 - val_accuracy: 0.7530 - val_precision: 0.7530 - val_recall: 0.7530\n",
      "Epoch 89/1024\n",
      "44/44 [==============================] - 0s 2ms/step - loss: 0.4780 - accuracy: 0.7671 - precision: 0.7671 - recall: 0.7671 - val_loss: 0.5088 - val_accuracy: 0.7639 - val_precision: 0.7639 - val_recall: 0.7639\n",
      "Epoch 90/1024\n",
      "44/44 [==============================] - 0s 2ms/step - loss: 0.4799 - accuracy: 0.7690 - precision: 0.7690 - recall: 0.7690 - val_loss: 0.5118 - val_accuracy: 0.7671 - val_precision: 0.7671 - val_recall: 0.7671\n",
      "Epoch 91/1024\n",
      "44/44 [==============================] - 0s 2ms/step - loss: 0.4791 - accuracy: 0.7729 - precision: 0.7729 - recall: 0.7729 - val_loss: 0.5113 - val_accuracy: 0.7617 - val_precision: 0.7617 - val_recall: 0.7617\n",
      "Epoch 92/1024\n",
      "44/44 [==============================] - 0s 2ms/step - loss: 0.4768 - accuracy: 0.7711 - precision: 0.7711 - recall: 0.7711 - val_loss: 0.5138 - val_accuracy: 0.7628 - val_precision: 0.7628 - val_recall: 0.7628\n",
      "Epoch 93/1024\n",
      "44/44 [==============================] - 0s 2ms/step - loss: 0.4771 - accuracy: 0.7693 - precision: 0.7693 - recall: 0.7693 - val_loss: 0.5116 - val_accuracy: 0.7584 - val_precision: 0.7584 - val_recall: 0.7584\n",
      "Epoch 94/1024\n",
      "44/44 [==============================] - 0s 2ms/step - loss: 0.4749 - accuracy: 0.7719 - precision: 0.7719 - recall: 0.7719 - val_loss: 0.5099 - val_accuracy: 0.7639 - val_precision: 0.7639 - val_recall: 0.7639\n",
      "Epoch 95/1024\n",
      "44/44 [==============================] - 0s 2ms/step - loss: 0.4758 - accuracy: 0.7715 - precision: 0.7715 - recall: 0.7715 - val_loss: 0.5080 - val_accuracy: 0.7682 - val_precision: 0.7682 - val_recall: 0.7682\n",
      "Epoch 96/1024\n",
      "44/44 [==============================] - 0s 2ms/step - loss: 0.4756 - accuracy: 0.7693 - precision: 0.7693 - recall: 0.7693 - val_loss: 0.5119 - val_accuracy: 0.7563 - val_precision: 0.7563 - val_recall: 0.7563\n",
      "Epoch 97/1024\n",
      "44/44 [==============================] - 0s 2ms/step - loss: 0.4735 - accuracy: 0.7740 - precision: 0.7740 - recall: 0.7740 - val_loss: 0.5124 - val_accuracy: 0.7650 - val_precision: 0.7650 - val_recall: 0.7650\n",
      "Epoch 98/1024\n",
      "44/44 [==============================] - 0s 2ms/step - loss: 0.4737 - accuracy: 0.7744 - precision: 0.7744 - recall: 0.7744 - val_loss: 0.5080 - val_accuracy: 0.7682 - val_precision: 0.7682 - val_recall: 0.7682\n",
      "Epoch 99/1024\n",
      "44/44 [==============================] - 0s 2ms/step - loss: 0.4723 - accuracy: 0.7762 - precision: 0.7762 - recall: 0.7762 - val_loss: 0.5081 - val_accuracy: 0.7693 - val_precision: 0.7693 - val_recall: 0.7693\n",
      "Epoch 100/1024\n",
      "44/44 [==============================] - 0s 2ms/step - loss: 0.4721 - accuracy: 0.7758 - precision: 0.7758 - recall: 0.7758 - val_loss: 0.5081 - val_accuracy: 0.7671 - val_precision: 0.7671 - val_recall: 0.7671\n",
      "Epoch 101/1024\n",
      "44/44 [==============================] - 0s 2ms/step - loss: 0.4717 - accuracy: 0.7729 - precision: 0.7729 - recall: 0.7729 - val_loss: 0.5095 - val_accuracy: 0.7628 - val_precision: 0.7628 - val_recall: 0.7628\n",
      "Epoch 102/1024\n",
      "44/44 [==============================] - 0s 2ms/step - loss: 0.4711 - accuracy: 0.7744 - precision: 0.7744 - recall: 0.7744 - val_loss: 0.5090 - val_accuracy: 0.7693 - val_precision: 0.7693 - val_recall: 0.7693\n",
      "Epoch 103/1024\n",
      "44/44 [==============================] - 0s 2ms/step - loss: 0.4736 - accuracy: 0.7722 - precision: 0.7722 - recall: 0.7722 - val_loss: 0.5111 - val_accuracy: 0.7552 - val_precision: 0.7552 - val_recall: 0.7552\n",
      "Epoch 104/1024\n",
      "44/44 [==============================] - 0s 2ms/step - loss: 0.4704 - accuracy: 0.7704 - precision: 0.7704 - recall: 0.7704 - val_loss: 0.5052 - val_accuracy: 0.7650 - val_precision: 0.7650 - val_recall: 0.7650\n",
      "Epoch 105/1024\n",
      "44/44 [==============================] - 0s 2ms/step - loss: 0.4683 - accuracy: 0.7758 - precision: 0.7758 - recall: 0.7758 - val_loss: 0.5173 - val_accuracy: 0.7541 - val_precision: 0.7541 - val_recall: 0.7541\n",
      "Epoch 106/1024\n",
      "44/44 [==============================] - 0s 2ms/step - loss: 0.4705 - accuracy: 0.7722 - precision: 0.7722 - recall: 0.7722 - val_loss: 0.5091 - val_accuracy: 0.7628 - val_precision: 0.7628 - val_recall: 0.7628\n",
      "Epoch 107/1024\n",
      "44/44 [==============================] - 0s 2ms/step - loss: 0.4684 - accuracy: 0.7744 - precision: 0.7744 - recall: 0.7744 - val_loss: 0.5086 - val_accuracy: 0.7639 - val_precision: 0.7639 - val_recall: 0.7639\n",
      "Epoch 108/1024\n",
      "44/44 [==============================] - 0s 2ms/step - loss: 0.4674 - accuracy: 0.7809 - precision: 0.7809 - recall: 0.7809 - val_loss: 0.5042 - val_accuracy: 0.7693 - val_precision: 0.7693 - val_recall: 0.7693\n",
      "Epoch 109/1024\n",
      "44/44 [==============================] - 0s 2ms/step - loss: 0.4669 - accuracy: 0.7733 - precision: 0.7733 - recall: 0.7733 - val_loss: 0.5053 - val_accuracy: 0.7693 - val_precision: 0.7693 - val_recall: 0.7693\n",
      "Epoch 110/1024\n",
      "44/44 [==============================] - 0s 2ms/step - loss: 0.4685 - accuracy: 0.7798 - precision: 0.7798 - recall: 0.7798 - val_loss: 0.5069 - val_accuracy: 0.7726 - val_precision: 0.7726 - val_recall: 0.7726\n",
      "Epoch 111/1024\n",
      "44/44 [==============================] - 0s 2ms/step - loss: 0.4667 - accuracy: 0.7798 - precision: 0.7798 - recall: 0.7798 - val_loss: 0.5068 - val_accuracy: 0.7639 - val_precision: 0.7639 - val_recall: 0.7639\n",
      "Epoch 112/1024\n",
      "44/44 [==============================] - 0s 2ms/step - loss: 0.4658 - accuracy: 0.7766 - precision: 0.7766 - recall: 0.7766 - val_loss: 0.5102 - val_accuracy: 0.7552 - val_precision: 0.7552 - val_recall: 0.7552\n",
      "Epoch 113/1024\n",
      "44/44 [==============================] - 0s 2ms/step - loss: 0.4651 - accuracy: 0.7769 - precision: 0.7769 - recall: 0.7769 - val_loss: 0.5090 - val_accuracy: 0.7682 - val_precision: 0.7682 - val_recall: 0.7682\n",
      "Epoch 114/1024\n",
      "44/44 [==============================] - 0s 2ms/step - loss: 0.4648 - accuracy: 0.7802 - precision: 0.7802 - recall: 0.7802 - val_loss: 0.5092 - val_accuracy: 0.7671 - val_precision: 0.7671 - val_recall: 0.7671\n",
      "Epoch 115/1024\n",
      "44/44 [==============================] - 0s 2ms/step - loss: 0.4651 - accuracy: 0.7773 - precision: 0.7773 - recall: 0.7773 - val_loss: 0.5066 - val_accuracy: 0.7791 - val_precision: 0.7791 - val_recall: 0.7791\n",
      "Epoch 116/1024\n",
      "44/44 [==============================] - 0s 2ms/step - loss: 0.4636 - accuracy: 0.7824 - precision: 0.7824 - recall: 0.7824 - val_loss: 0.5087 - val_accuracy: 0.7671 - val_precision: 0.7671 - val_recall: 0.7671\n",
      "Epoch 117/1024\n",
      "44/44 [==============================] - 0s 2ms/step - loss: 0.4635 - accuracy: 0.7813 - precision: 0.7813 - recall: 0.7813 - val_loss: 0.5093 - val_accuracy: 0.7661 - val_precision: 0.7661 - val_recall: 0.7661\n",
      "Epoch 118/1024\n",
      "44/44 [==============================] - 0s 2ms/step - loss: 0.4634 - accuracy: 0.7784 - precision: 0.7784 - recall: 0.7784 - val_loss: 0.5050 - val_accuracy: 0.7802 - val_precision: 0.7802 - val_recall: 0.7802\n",
      "Epoch 119/1024\n",
      "44/44 [==============================] - 0s 2ms/step - loss: 0.4630 - accuracy: 0.7787 - precision: 0.7787 - recall: 0.7787 - val_loss: 0.5073 - val_accuracy: 0.7715 - val_precision: 0.7715 - val_recall: 0.7715\n",
      "Epoch 120/1024\n",
      "44/44 [==============================] - 0s 2ms/step - loss: 0.4638 - accuracy: 0.7766 - precision: 0.7766 - recall: 0.7766 - val_loss: 0.5048 - val_accuracy: 0.7671 - val_precision: 0.7671 - val_recall: 0.7671\n",
      "Epoch 121/1024\n",
      "44/44 [==============================] - 0s 2ms/step - loss: 0.4612 - accuracy: 0.7816 - precision: 0.7816 - recall: 0.7816 - val_loss: 0.5042 - val_accuracy: 0.7780 - val_precision: 0.7780 - val_recall: 0.7780\n",
      "Epoch 122/1024\n",
      "44/44 [==============================] - 0s 2ms/step - loss: 0.4604 - accuracy: 0.7827 - precision: 0.7827 - recall: 0.7827 - val_loss: 0.5100 - val_accuracy: 0.7552 - val_precision: 0.7552 - val_recall: 0.7552\n",
      "Epoch 123/1024\n",
      "44/44 [==============================] - 0s 2ms/step - loss: 0.4605 - accuracy: 0.7838 - precision: 0.7838 - recall: 0.7838 - val_loss: 0.5049 - val_accuracy: 0.7726 - val_precision: 0.7726 - val_recall: 0.7726\n",
      "Epoch 124/1024\n",
      "44/44 [==============================] - 0s 2ms/step - loss: 0.4600 - accuracy: 0.7856 - precision: 0.7856 - recall: 0.7856 - val_loss: 0.5064 - val_accuracy: 0.7748 - val_precision: 0.7748 - val_recall: 0.7748\n",
      "Epoch 125/1024\n",
      "44/44 [==============================] - 0s 2ms/step - loss: 0.4598 - accuracy: 0.7835 - precision: 0.7835 - recall: 0.7835 - val_loss: 0.5054 - val_accuracy: 0.7726 - val_precision: 0.7726 - val_recall: 0.7726\n",
      "Epoch 126/1024\n",
      "44/44 [==============================] - 0s 2ms/step - loss: 0.4586 - accuracy: 0.7860 - precision: 0.7860 - recall: 0.7860 - val_loss: 0.5043 - val_accuracy: 0.7726 - val_precision: 0.7726 - val_recall: 0.7726\n",
      "Epoch 127/1024\n",
      "44/44 [==============================] - 0s 2ms/step - loss: 0.4574 - accuracy: 0.7791 - precision: 0.7791 - recall: 0.7791 - val_loss: 0.5113 - val_accuracy: 0.7682 - val_precision: 0.7682 - val_recall: 0.7682\n",
      "Epoch 128/1024\n",
      "44/44 [==============================] - 0s 2ms/step - loss: 0.4596 - accuracy: 0.7871 - precision: 0.7871 - recall: 0.7871 - val_loss: 0.5069 - val_accuracy: 0.7650 - val_precision: 0.7650 - val_recall: 0.7650\n",
      "Epoch 129/1024\n",
      "44/44 [==============================] - 0s 2ms/step - loss: 0.4571 - accuracy: 0.7835 - precision: 0.7835 - recall: 0.7835 - val_loss: 0.5144 - val_accuracy: 0.7552 - val_precision: 0.7552 - val_recall: 0.7552\n",
      "Epoch 130/1024\n",
      "44/44 [==============================] - 0s 2ms/step - loss: 0.4568 - accuracy: 0.7827 - precision: 0.7827 - recall: 0.7827 - val_loss: 0.5029 - val_accuracy: 0.7802 - val_precision: 0.7802 - val_recall: 0.7802\n",
      "Epoch 131/1024\n",
      "44/44 [==============================] - 0s 2ms/step - loss: 0.4572 - accuracy: 0.7860 - precision: 0.7860 - recall: 0.7860 - val_loss: 0.5091 - val_accuracy: 0.7628 - val_precision: 0.7628 - val_recall: 0.7628\n",
      "Epoch 132/1024\n",
      "44/44 [==============================] - 0s 2ms/step - loss: 0.4565 - accuracy: 0.7816 - precision: 0.7816 - recall: 0.7816 - val_loss: 0.5032 - val_accuracy: 0.7726 - val_precision: 0.7726 - val_recall: 0.7726\n",
      "Epoch 133/1024\n",
      "44/44 [==============================] - 0s 2ms/step - loss: 0.4550 - accuracy: 0.7845 - precision: 0.7845 - recall: 0.7845 - val_loss: 0.5055 - val_accuracy: 0.7737 - val_precision: 0.7737 - val_recall: 0.7737\n",
      "Epoch 134/1024\n",
      "44/44 [==============================] - 0s 2ms/step - loss: 0.4548 - accuracy: 0.7864 - precision: 0.7864 - recall: 0.7864 - val_loss: 0.5130 - val_accuracy: 0.7606 - val_precision: 0.7606 - val_recall: 0.7606\n",
      "Epoch 135/1024\n",
      "44/44 [==============================] - 0s 2ms/step - loss: 0.4552 - accuracy: 0.7882 - precision: 0.7882 - recall: 0.7882 - val_loss: 0.5041 - val_accuracy: 0.7617 - val_precision: 0.7617 - val_recall: 0.7617\n",
      "Epoch 136/1024\n",
      "44/44 [==============================] - 0s 2ms/step - loss: 0.4540 - accuracy: 0.7893 - precision: 0.7893 - recall: 0.7893 - val_loss: 0.5028 - val_accuracy: 0.7639 - val_precision: 0.7639 - val_recall: 0.7639\n",
      "Epoch 137/1024\n",
      "44/44 [==============================] - 0s 2ms/step - loss: 0.4545 - accuracy: 0.7845 - precision: 0.7845 - recall: 0.7845 - val_loss: 0.5039 - val_accuracy: 0.7661 - val_precision: 0.7661 - val_recall: 0.7661\n",
      "Epoch 138/1024\n",
      "44/44 [==============================] - 0s 2ms/step - loss: 0.4535 - accuracy: 0.7820 - precision: 0.7820 - recall: 0.7820 - val_loss: 0.5022 - val_accuracy: 0.7661 - val_precision: 0.7661 - val_recall: 0.7661\n",
      "Epoch 139/1024\n",
      "44/44 [==============================] - 0s 2ms/step - loss: 0.4551 - accuracy: 0.7798 - precision: 0.7798 - recall: 0.7798 - val_loss: 0.5027 - val_accuracy: 0.7704 - val_precision: 0.7704 - val_recall: 0.7704\n",
      "Epoch 140/1024\n",
      "44/44 [==============================] - 0s 2ms/step - loss: 0.4527 - accuracy: 0.7864 - precision: 0.7864 - recall: 0.7864 - val_loss: 0.5025 - val_accuracy: 0.7671 - val_precision: 0.7671 - val_recall: 0.7671\n",
      "Epoch 141/1024\n",
      "44/44 [==============================] - 0s 2ms/step - loss: 0.4509 - accuracy: 0.7885 - precision: 0.7885 - recall: 0.7885 - val_loss: 0.5013 - val_accuracy: 0.7693 - val_precision: 0.7693 - val_recall: 0.7693\n",
      "Epoch 142/1024\n",
      "44/44 [==============================] - 0s 2ms/step - loss: 0.4514 - accuracy: 0.7875 - precision: 0.7875 - recall: 0.7875 - val_loss: 0.5044 - val_accuracy: 0.7639 - val_precision: 0.7639 - val_recall: 0.7639\n",
      "Epoch 143/1024\n",
      "44/44 [==============================] - 0s 2ms/step - loss: 0.4503 - accuracy: 0.7875 - precision: 0.7875 - recall: 0.7875 - val_loss: 0.5007 - val_accuracy: 0.7737 - val_precision: 0.7737 - val_recall: 0.7737\n",
      "Epoch 144/1024\n",
      "44/44 [==============================] - 0s 2ms/step - loss: 0.4493 - accuracy: 0.7889 - precision: 0.7889 - recall: 0.7889 - val_loss: 0.5020 - val_accuracy: 0.7650 - val_precision: 0.7650 - val_recall: 0.7650\n",
      "Epoch 145/1024\n",
      "44/44 [==============================] - 0s 2ms/step - loss: 0.4492 - accuracy: 0.7875 - precision: 0.7875 - recall: 0.7875 - val_loss: 0.5049 - val_accuracy: 0.7693 - val_precision: 0.7693 - val_recall: 0.7693\n",
      "Epoch 146/1024\n",
      "44/44 [==============================] - 0s 2ms/step - loss: 0.4485 - accuracy: 0.7925 - precision: 0.7925 - recall: 0.7925 - val_loss: 0.5014 - val_accuracy: 0.7726 - val_precision: 0.7726 - val_recall: 0.7726\n",
      "Epoch 147/1024\n",
      "44/44 [==============================] - 0s 2ms/step - loss: 0.4473 - accuracy: 0.7951 - precision: 0.7951 - recall: 0.7951 - val_loss: 0.5039 - val_accuracy: 0.7606 - val_precision: 0.7606 - val_recall: 0.7606\n",
      "Epoch 148/1024\n",
      "44/44 [==============================] - 0s 2ms/step - loss: 0.4472 - accuracy: 0.7885 - precision: 0.7885 - recall: 0.7885 - val_loss: 0.5025 - val_accuracy: 0.7693 - val_precision: 0.7693 - val_recall: 0.7693\n",
      "Epoch 149/1024\n",
      "44/44 [==============================] - 0s 2ms/step - loss: 0.4461 - accuracy: 0.7900 - precision: 0.7900 - recall: 0.7900 - val_loss: 0.5001 - val_accuracy: 0.7726 - val_precision: 0.7726 - val_recall: 0.7726\n",
      "Epoch 150/1024\n",
      "44/44 [==============================] - 0s 2ms/step - loss: 0.4463 - accuracy: 0.7922 - precision: 0.7922 - recall: 0.7922 - val_loss: 0.5013 - val_accuracy: 0.7682 - val_precision: 0.7682 - val_recall: 0.7682\n",
      "Restoring model weights from the end of the best epoch.\n",
      "Epoch 00150: early stopping\n"
     ]
    }
   ],
   "source": [
    "zero_bias_history = model.fit(\n",
    "    x_train,\n",
    "    y_train,\n",
    "    batch_size=BATCH_SIZE,\n",
    "    epochs=EPOCHS,\n",
    "    validation_data=(x_val, y_val),\n",
    "    callbacks=early_stopping)"
   ]
  },
  {
   "cell_type": "code",
   "execution_count": 11,
   "metadata": {},
   "outputs": [
    {
     "name": "stdout",
     "output_type": "stream",
     "text": [
      "INFO:tensorflow:Assets written to: model/ann_model/assets\n"
     ]
    }
   ],
   "source": [
    "model.save('model/ann_model')"
   ]
  },
  {
   "cell_type": "code",
   "execution_count": 12,
   "metadata": {},
   "outputs": [
    {
     "data": {
      "image/png": "[encoded data removed]",
      "text/plain": [
       "<Figure size 864x720 with 1 Axes>"
      ]
     },
     "metadata": {
      "needs_background": "light"
     },
     "output_type": "display_data"
    }
   ],
   "source": [
    "loss_train = zero_bias_history.history['accuracy']\n",
    "loss_val = zero_bias_history.history['val_accuracy']\n",
    "epochs = range(len(zero_bias_history.history['accuracy']))\n",
    "plt.plot(epochs, loss_train, 'g', label='Training Accuracy')\n",
    "plt.plot(epochs, loss_val, 'b', label='validation Accuracy')\n",
    "plt.title('Training and Validation Accuracy')\n",
    "plt.xlabel('Epochs')\n",
    "plt.ylabel('Accuracy')\n",
    "plt.legend()\n",
    "plt.show()"
   ]
  },
  {
   "cell_type": "code",
   "execution_count": 13,
   "metadata": {},
   "outputs": [
    {
     "data": {
      "image/png": "[encoded data removed]",
      "text/plain": [
       "<Figure size 864x720 with 1 Axes>"
      ]
     },
     "metadata": {
      "needs_background": "light"
     },
     "output_type": "display_data"
    }
   ],
   "source": [
    "loss_train = zero_bias_history.history['loss']\n",
    "loss_val = zero_bias_history.history['val_loss']\n",
    "epochs = range(len(zero_bias_history.history['loss']))\n",
    "plt.plot(epochs, loss_train, 'g', label='Training loss')\n",
    "plt.plot(epochs, loss_val, 'b', label='validation loss')\n",
    "plt.title('Training and Validation loss')\n",
    "plt.xlabel('Epochs')\n",
    "plt.ylabel('Loss')\n",
    "plt.legend()\n",
    "plt.show()"
   ]
  },
  {
   "cell_type": "code",
   "execution_count": 14,
   "metadata": {},
   "outputs": [],
   "source": [
    "def plot_cm(labels, predictions, p=0.5):\n",
    "    cm = confusion_matrix(labels, predictions >= p)\n",
    "    plt.figure(figsize=(5,5))\n",
    "    sns.heatmap(cm, annot=True, fmt=\"d\")\n",
    "    plt.title('Confusion matrix @{:.2f}'.format(p))\n",
    "    plt.ylabel('Actual label')\n",
    "    plt.xlabel('Predicted label')\n",
    "\n",
    "    print('Legitimate Transactions Detected (True Negatives): {0}, with percentage : {1}'.format(cm[0][0], cm[0][0]/len(labels)))\n",
    "    print('Legitimate Transactions Incorrectly Detected (False Positives): {0}, with percentage : {1}'.format(cm[0][1], cm[0][1]/len(labels)))\n",
    "    print('Fraudulent Transactions Missed (False Negatives): {0}, with percentage : {1}'.format(cm[1][0], cm[1][0]/len(labels)))\n",
    "    print('Fraudulent Transactions Detected (True Positives): {0}, with percentage : {1}'.format(cm[1][1], cm[1][1]/len(labels)))\n",
    "    print('Total Fraudulent Transactions: ', np.sum(cm[1]))\n",
    "\n",
    "    print('Accuracy : ', accuracy_score(labels, predictions > p))"
   ]
  },
  {
   "cell_type": "code",
   "execution_count": null,
   "metadata": {},
   "outputs": [],
   "source": [
    "def MultiResultToBinary(result):\n",
    "    if type(result) == 'pandas.core.frame.DataFrame'{\n",
    "        result = result.to_numpy()\n",
    "    }\n",
    "\n",
    "    print(type(result))"
   ]
  },
  {
   "cell_type": "code",
   "execution_count": 17,
   "metadata": {},
   "outputs": [
    {
     "name": "stdout",
     "output_type": "stream",
     "text": [
      "<class 'numpy.ndarray'>\n",
      "<class 'pandas.core.frame.DataFrame'>\n"
     ]
    }
   ],
   "source": [
    "y_pred = model.predict(x_test)\n",
    "\n",
    "print(type(y_pred))\n",
    "\n",
    "print(type(ymc))"
   ]
  },
  {
   "cell_type": "code",
   "execution_count": 16,
   "metadata": {},
   "outputs": [
    {
     "ename": "ValueError",
     "evalue": "multilabel-indicator is not supported",
     "output_type": "error",
     "traceback": [
      "\u001b[0;31m---------------------------------------------------------------------------\u001b[0m",
      "\u001b[0;31mValueError\u001b[0m                                Traceback (most recent call last)",
      "\u001b[0;32m<ipython-input-16-a4201a2a9b7f>\u001b[0m in \u001b[0;36m<module>\u001b[0;34m\u001b[0m\n\u001b[1;32m     13\u001b[0m \u001b[0;31m# print(np.concatenate((y_pred.reshape(len(y_pred),1), y_test.reshape(len(y_test),1)),1))\u001b[0m\u001b[0;34m\u001b[0m\u001b[0;34m\u001b[0m\u001b[0;34m\u001b[0m\u001b[0m\n\u001b[1;32m     14\u001b[0m \u001b[0;31m# plot_cm(y_test, y_pred)\u001b[0m\u001b[0;34m\u001b[0m\u001b[0;34m\u001b[0m\u001b[0;34m\u001b[0m\u001b[0m\n\u001b[0;32m---> 15\u001b[0;31m \u001b[0mcm\u001b[0m \u001b[0;34m=\u001b[0m \u001b[0mconfusion_matrix\u001b[0m\u001b[0;34m(\u001b[0m\u001b[0mymc_test\u001b[0m\u001b[0;34m,\u001b[0m \u001b[0my_pred_binary\u001b[0m\u001b[0;34m)\u001b[0m\u001b[0;34m\u001b[0m\u001b[0;34m\u001b[0m\u001b[0m\n\u001b[0m",
      "\u001b[0;32m~/.local/lib/python3.6/site-packages/sklearn/utils/validation.py\u001b[0m in \u001b[0;36minner_f\u001b[0;34m(*args, **kwargs)\u001b[0m\n\u001b[1;32m     61\u001b[0m             \u001b[0mextra_args\u001b[0m \u001b[0;34m=\u001b[0m \u001b[0mlen\u001b[0m\u001b[0;34m(\u001b[0m\u001b[0margs\u001b[0m\u001b[0;34m)\u001b[0m \u001b[0;34m-\u001b[0m \u001b[0mlen\u001b[0m\u001b[0;34m(\u001b[0m\u001b[0mall_args\u001b[0m\u001b[0;34m)\u001b[0m\u001b[0;34m\u001b[0m\u001b[0;34m\u001b[0m\u001b[0m\n\u001b[1;32m     62\u001b[0m             \u001b[0;32mif\u001b[0m \u001b[0mextra_args\u001b[0m \u001b[0;34m<=\u001b[0m \u001b[0;36m0\u001b[0m\u001b[0;34m:\u001b[0m\u001b[0;34m\u001b[0m\u001b[0;34m\u001b[0m\u001b[0m\n\u001b[0;32m---> 63\u001b[0;31m                 \u001b[0;32mreturn\u001b[0m \u001b[0mf\u001b[0m\u001b[0;34m(\u001b[0m\u001b[0;34m*\u001b[0m\u001b[0margs\u001b[0m\u001b[0;34m,\u001b[0m \u001b[0;34m**\u001b[0m\u001b[0mkwargs\u001b[0m\u001b[0;34m)\u001b[0m\u001b[0;34m\u001b[0m\u001b[0;34m\u001b[0m\u001b[0m\n\u001b[0m\u001b[1;32m     64\u001b[0m \u001b[0;34m\u001b[0m\u001b[0m\n\u001b[1;32m     65\u001b[0m             \u001b[0;31m# extra_args > 0\u001b[0m\u001b[0;34m\u001b[0m\u001b[0;34m\u001b[0m\u001b[0;34m\u001b[0m\u001b[0m\n",
      "\u001b[0;32m~/.local/lib/python3.6/site-packages/sklearn/metrics/_classification.py\u001b[0m in \u001b[0;36mconfusion_matrix\u001b[0;34m(y_true, y_pred, labels, sample_weight, normalize)\u001b[0m\n\u001b[1;32m    299\u001b[0m     \u001b[0my_type\u001b[0m\u001b[0;34m,\u001b[0m \u001b[0my_true\u001b[0m\u001b[0;34m,\u001b[0m \u001b[0my_pred\u001b[0m \u001b[0;34m=\u001b[0m \u001b[0m_check_targets\u001b[0m\u001b[0;34m(\u001b[0m\u001b[0my_true\u001b[0m\u001b[0;34m,\u001b[0m \u001b[0my_pred\u001b[0m\u001b[0;34m)\u001b[0m\u001b[0;34m\u001b[0m\u001b[0;34m\u001b[0m\u001b[0m\n\u001b[1;32m    300\u001b[0m     \u001b[0;32mif\u001b[0m \u001b[0my_type\u001b[0m \u001b[0;32mnot\u001b[0m \u001b[0;32min\u001b[0m \u001b[0;34m(\u001b[0m\u001b[0;34m\"binary\"\u001b[0m\u001b[0;34m,\u001b[0m \u001b[0;34m\"multiclass\"\u001b[0m\u001b[0;34m)\u001b[0m\u001b[0;34m:\u001b[0m\u001b[0;34m\u001b[0m\u001b[0;34m\u001b[0m\u001b[0m\n\u001b[0;32m--> 301\u001b[0;31m         \u001b[0;32mraise\u001b[0m \u001b[0mValueError\u001b[0m\u001b[0;34m(\u001b[0m\u001b[0;34m\"%s is not supported\"\u001b[0m \u001b[0;34m%\u001b[0m \u001b[0my_type\u001b[0m\u001b[0;34m)\u001b[0m\u001b[0;34m\u001b[0m\u001b[0;34m\u001b[0m\u001b[0m\n\u001b[0m\u001b[1;32m    302\u001b[0m \u001b[0;34m\u001b[0m\u001b[0m\n\u001b[1;32m    303\u001b[0m     \u001b[0;32mif\u001b[0m \u001b[0mlabels\u001b[0m \u001b[0;32mis\u001b[0m \u001b[0;32mNone\u001b[0m\u001b[0;34m:\u001b[0m\u001b[0;34m\u001b[0m\u001b[0;34m\u001b[0m\u001b[0m\n",
      "\u001b[0;31mValueError\u001b[0m: multilabel-indicator is not supported"
     ]
    }
   ],
   "source": [
    "# predicting test data\n",
    "y_pred = model.predict(x_test)\n",
    "y_pred_binary = []\n",
    "\n",
    "for pred in y_pred:\n",
    "    if pred[0] > pred[1]:\n",
    "        y_pred_binary.append([1,0])\n",
    "    else:\n",
    "        y_pred_binary.append([0,1])\n",
    "y_pred_binary = np.array(y_pred_binary)\n",
    "\n",
    "# print(ymc_test.shape)\n",
    "# print(np.concatenate((y_pred.reshape(len(y_pred),1), y_test.reshape(len(y_test),1)),1))\n",
    "# plot_cm(y_test, y_pred)\n",
    "cm = confusion_matrix(ymc_test, y_pred_binary)"
   ]
  },
  {
   "cell_type": "code",
   "execution_count": null,
   "metadata": {},
   "outputs": [],
   "source": [
    "# conf matrix on validation data\n",
    "\n",
    "y_pred = model.predict(x_val)\n",
    "print(np.concatenate((y_pred.reshape(len(y_pred),1), y_val.reshape(len(y_val),1)),1))\n",
    "\n",
    "plot_cm(y_val, y_pred)"
   ]
  }
 ],
 "metadata": {
  "interpreter": {
   "hash": "31f2aee4e71d21fbe5cf8b01ff0e069b9275f58929596ceb00d14d90e3e16cd6"
  },
  "kernelspec": {
   "display_name": "Python 3.6.9 64-bit",
   "name": "python3"
  },
  "language_info": {
   "codemirror_mode": {
    "name": "ipython",
    "version": 3
   },
   "file_extension": ".py",
   "mimetype": "text/x-python",
   "name": "python",
   "nbconvert_exporter": "python",
   "pygments_lexer": "ipython3",
   "version": "3.6.9"
  },
  "orig_nbformat": 4
 },
 "nbformat": 4,
 "nbformat_minor": 2
}
